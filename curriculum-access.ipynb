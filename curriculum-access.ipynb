{
 "cells": [
  {
   "cell_type": "code",
   "execution_count": 1,
   "metadata": {},
   "outputs": [],
   "source": [
    "from __future__ import division\n",
    "import itertools\n",
    "import warnings\n",
    "warnings.filterwarnings(\"ignore\")\n",
    "import matplotlib.pyplot as plt\n",
    "import matplotlib.dates as mdates\n",
    "import numpy as np\n",
    "import pandas as pd\n",
    "import math\n",
    "from sklearn import metrics\n",
    "from random import randint\n",
    "from matplotlib import style\n",
    "import seaborn as sns\n",
    "%matplotlib inline\n",
    "from geolite2 import geolite2\n",
    "from ip2geotools.databases.noncommercial import DbIpCity"
   ]
  },
  {
   "cell_type": "code",
   "execution_count": 2,
   "metadata": {},
   "outputs": [],
   "source": [
    "# Prepping the data\n",
    "\n",
    "data = pd.read_csv('anonymized-curriculum-access.txt', sep=\"\\s{1}\", header = None, engine='python')\n",
    "data.rename(columns = {0: 'date', 1: 'access_time', 2: 'curriculum_page', 3 : 'userid', 4: 'cohort', 5: 'ip'}, inplace = True)\n",
    "data['datetime'] = data.date.astype(str) + ' ' + data.access_time.astype(str)\n",
    "data['datetime'] = pd.to_datetime(data.datetime)\n",
    "data = data.set_index('datetime')\n",
    "data.drop(columns = ['date', 'access_time'], inplace = True)\n",
    "after_school = data.between_time('17:30', '08:30')"
   ]
  },
  {
   "cell_type": "code",
   "execution_count": 3,
   "metadata": {},
   "outputs": [
    {
     "data": {
      "text/plain": [
       "97.105.19.58       284579\n",
       "97.105.19.61        61662\n",
       "192.171.117.210      9515\n",
       "71.150.217.33        6791\n",
       "76.185.145.231       4754\n",
       "                    ...  \n",
       "107.77.218.109          1\n",
       "50.27.1.235             1\n",
       "107.204.49.22           1\n",
       "172.58.70.192           1\n",
       "95.181.238.25           1\n",
       "Name: ip, Length: 5531, dtype: int64"
      ]
     },
     "execution_count": 3,
     "metadata": {},
     "output_type": "execute_result"
    }
   ],
   "source": [
    "# Gonna go ahead and assume these first two IP addresses are from codeup San Antonio, let's confirm\n",
    "\n",
    "data.ip.value_counts()"
   ]
  },
  {
   "cell_type": "code",
   "execution_count": 4,
   "metadata": {},
   "outputs": [
    {
     "data": {
      "text/plain": [
       "'97.105.19.58,San Antonio (Downtown),Texas,US,29.4193459,-98.4780456'"
      ]
     },
     "execution_count": 4,
     "metadata": {},
     "output_type": "execute_result"
    }
   ],
   "source": [
    "# That's codeup!\n",
    "\n",
    "(DbIpCity.get('97.105.19.58', api_key='free')).to_csv(',')"
   ]
  },
  {
   "cell_type": "code",
   "execution_count": 5,
   "metadata": {},
   "outputs": [
    {
     "data": {
      "text/plain": [
       "'97.105.19.61,San Antonio (Downtown),Texas,US,29.4193459,-98.4780456'"
      ]
     },
     "execution_count": 5,
     "metadata": {},
     "output_type": "execute_result"
    }
   ],
   "source": [
    "# As is that\n",
    "\n",
    "(DbIpCity.get('97.105.19.61', api_key='free')).to_csv(',')"
   ]
  },
  {
   "cell_type": "code",
   "execution_count": 6,
   "metadata": {},
   "outputs": [
    {
     "data": {
      "text/plain": [
       "<AxesSubplot:>"
      ]
     },
     "execution_count": 6,
     "metadata": {},
     "output_type": "execute_result"
    },
    {
     "data": {
      "image/png": "[encoded data removed]",
      "text/plain": [
       "<Figure size 432x288 with 1 Axes>"
      ]
     },
     "metadata": {
      "needs_background": "light"
     },
     "output_type": "display_data"
    }
   ],
   "source": [
    "data['cohort'].hist()"
   ]
  },
  {
   "cell_type": "code",
   "execution_count": 7,
   "metadata": {},
   "outputs": [],
   "source": [
    "# Function to show the first and last access records of the cohorts numbered higher than 100\n",
    "\n",
    "hmm = data[data['cohort'] > 100]\n",
    "things = hmm.cohort.unique().tolist()\n",
    "def get_first(data, things):\n",
    "    save = []\n",
    "    for num in things:\n",
    "        duh = data[data['cohort'] == num]\n",
    "        save.append(duh.iloc[0])\n",
    "        save.append(duh.iloc[-1])\n",
    "    return save"
   ]
  },
  {
   "cell_type": "code",
   "execution_count": 8,
   "metadata": {},
   "outputs": [],
   "source": [
    "first = get_first(data, things)"
   ]
  },
  {
   "cell_type": "code",
   "execution_count": 9,
   "metadata": {},
   "outputs": [
    {
     "data": {
      "text/plain": [
       "[curriculum_page                  /\n",
       " userid                         788\n",
       " cohort                         132\n",
       " ip                 173.175.108.125\n",
       " Name: 2020-11-03 09:06:55, dtype: object,\n",
       " curriculum_page    html-css/css-i/introduction\n",
       " userid                                     793\n",
       " cohort                                     132\n",
       " ip                              72.201.107.178\n",
       " Name: 2021-04-21 16:32:36, dtype: object,\n",
       " curriculum_page                  /\n",
       " userid                         819\n",
       " cohort                         134\n",
       " ip                 107.130.157.190\n",
       " Name: 2020-12-07 14:15:16, dtype: object,\n",
       " curriculum_page    java-iii/servlets\n",
       " userid                           834\n",
       " cohort                           134\n",
       " ip                       67.11.50.23\n",
       " Name: 2021-04-21 16:38:14, dtype: object,\n",
       " curriculum_page                /\n",
       " userid                       835\n",
       " cohort                       133\n",
       " ip                 173.173.109.5\n",
       " Name: 2020-12-08 10:49:37, dtype: object,\n",
       " curriculum_page    clustering/project\n",
       " userid                            841\n",
       " cohort                            133\n",
       " ip                     99.162.244.233\n",
       " Name: 2021-04-21 16:32:50, dtype: object,\n",
       " curriculum_page               /\n",
       " userid                      861\n",
       " cohort                      135\n",
       " ip                 96.8.248.149\n",
       " Name: 2021-01-26 12:18:36, dtype: object,\n",
       " curriculum_page    javascript-i/bom-and-dom/dom\n",
       " userid                                      875\n",
       " cohort                                      135\n",
       " ip                               24.242.150.231\n",
       " Name: 2021-04-21 16:41:51, dtype: object,\n",
       " curriculum_page               /\n",
       " userid                      895\n",
       " cohort                      138\n",
       " ip                 96.8.253.119\n",
       " Name: 2021-03-15 15:22:31, dtype: object,\n",
       " curriculum_page    html-css/css-ii/bootstrap-grid-system\n",
       " userid                                               948\n",
       " cohort                                               138\n",
       " ip                                        104.48.214.211\n",
       " Name: 2021-04-21 16:36:34, dtype: object,\n",
       " curriculum_page                 /\n",
       " userid                        896\n",
       " cohort                        137\n",
       " ip                 162.205.226.39\n",
       " Name: 2021-03-15 15:22:48, dtype: object,\n",
       " curriculum_page    sql/group-by\n",
       " userid                      903\n",
       " cohort                      137\n",
       " ip                 70.117.8.141\n",
       " Name: 2021-04-21 13:23:06, dtype: object,\n",
       " curriculum_page                /\n",
       " userid                       954\n",
       " cohort                       139\n",
       " ip                 72.177.209.77\n",
       " Name: 2021-04-12 16:44:17, dtype: object,\n",
       " curriculum_page                /\n",
       " userid                       970\n",
       " cohort                       139\n",
       " ip                 172.56.14.200\n",
       " Name: 2021-04-21 13:14:10, dtype: object]"
      ]
     },
     "execution_count": 9,
     "metadata": {},
     "output_type": "execute_result"
    }
   ],
   "source": [
    "# Found that (before I converted the column name) these are cohorts based on first and last access date and files \n",
    "# accessed it looks like Easley is 133!\n",
    "\n",
    "first"
   ]
  },
  {
   "cell_type": "code",
   "execution_count": 10,
   "metadata": {},
   "outputs": [
    {
     "data": {
      "text/plain": [
       "<AxesSubplot:>"
      ]
     },
     "execution_count": 10,
     "metadata": {},
     "output_type": "execute_result"
    },
    {
     "data": {
      "image/png": "[encoded data removed]",
      "text/plain": [
       "<Figure size 432x288 with 1 Axes>"
      ]
     },
     "metadata": {
      "needs_background": "light"
     },
     "output_type": "display_data"
    }
   ],
   "source": [
    "\n",
    "\n",
    "data['userid'].hist()"
   ]
  },
  {
   "cell_type": "code",
   "execution_count": 11,
   "metadata": {},
   "outputs": [
    {
     "data": {
      "text/plain": [
       "97.105.19.58       10245\n",
       "192.171.117.210     3768\n",
       "97.105.19.61        2281\n",
       "72.190.174.52       1366\n",
       "70.112.179.142      1312\n",
       "                   ...  \n",
       "107.77.218.136         1\n",
       "50.27.1.235            1\n",
       "99.203.90.176          1\n",
       "107.77.221.69          1\n",
       "99.203.155.123         1\n",
       "Name: ip, Length: 3130, dtype: int64"
      ]
     },
     "execution_count": 11,
     "metadata": {},
     "output_type": "execute_result"
    }
   ],
   "source": [
    "# What is this second ip address?\n",
    "\n",
    "after_school.ip.value_counts()"
   ]
  },
  {
   "cell_type": "code",
   "execution_count": 12,
   "metadata": {},
   "outputs": [
    {
     "data": {
      "text/plain": [
       "'192.171.117.210,San Antonio (Uptown),Texas,US,29.7458025,-95.46424437845525'"
      ]
     },
     "execution_count": 12,
     "metadata": {},
     "output_type": "execute_result"
    }
   ],
   "source": [
    "# The latitude and longitude coordinates give me a place located in Houston that is not the Houston codeup \n",
    "\n",
    "(DbIpCity.get('192.171.117.210', api_key='free')).to_csv(',')"
   ]
  },
  {
   "cell_type": "code",
   "execution_count": 13,
   "metadata": {},
   "outputs": [
    {
     "data": {
      "text/plain": [
       "<AxesSubplot:xlabel='datetime', ylabel='Count'>"
      ]
     },
     "execution_count": 13,
     "metadata": {},
     "output_type": "execute_result"
    },
    {
     "data": {
      "image/png": "[encoded data removed]",
      "text/plain": [
       "<Figure size 432x288 with 1 Axes>"
      ]
     },
     "metadata": {
      "needs_background": "light"
     },
     "output_type": "display_data"
    }
   ],
   "source": [
    "# Access rates by hour\n",
    "\n",
    "sns.histplot(data = data, x = data.index.hour)"
   ]
  },
  {
   "cell_type": "code",
   "execution_count": 14,
   "metadata": {},
   "outputs": [
    {
     "data": {
      "text/html": [
       "<div>\n",
       "<style scoped>\n",
       "    .dataframe tbody tr th:only-of-type {\n",
       "        vertical-align: middle;\n",
       "    }\n",
       "\n",
       "    .dataframe tbody tr th {\n",
       "        vertical-align: top;\n",
       "    }\n",
       "\n",
       "    .dataframe thead th {\n",
       "        text-align: right;\n",
       "    }\n",
       "</style>\n",
       "<table border=\"1\" class=\"dataframe\">\n",
       "  <thead>\n",
       "    <tr style=\"text-align: right;\">\n",
       "      <th></th>\n",
       "      <th>curriculum_page</th>\n",
       "      <th>userid</th>\n",
       "      <th>cohort</th>\n",
       "      <th>ip</th>\n",
       "    </tr>\n",
       "    <tr>\n",
       "      <th>datetime</th>\n",
       "      <th></th>\n",
       "      <th></th>\n",
       "      <th></th>\n",
       "      <th></th>\n",
       "    </tr>\n",
       "  </thead>\n",
       "  <tbody>\n",
       "    <tr>\n",
       "      <th>2021-04-21 09:54:59</th>\n",
       "      <td>anomaly-detection/overview</td>\n",
       "      <td>847</td>\n",
       "      <td>133.0</td>\n",
       "      <td>173.174.194.60</td>\n",
       "    </tr>\n",
       "    <tr>\n",
       "      <th>2021-04-21 09:54:59</th>\n",
       "      <td>anomaly-detection/AnomalyDetectionCartoon.jpeg</td>\n",
       "      <td>847</td>\n",
       "      <td>133.0</td>\n",
       "      <td>173.174.194.60</td>\n",
       "    </tr>\n",
       "    <tr>\n",
       "      <th>2021-04-21 09:54:59</th>\n",
       "      <td>anomaly-detection/AnomalyDetectionCartoon.jpeg</td>\n",
       "      <td>847</td>\n",
       "      <td>133.0</td>\n",
       "      <td>173.174.194.60</td>\n",
       "    </tr>\n",
       "    <tr>\n",
       "      <th>2021-04-21 09:55:07</th>\n",
       "      <td>anomaly-detection/continuous-probabilistic-met...</td>\n",
       "      <td>847</td>\n",
       "      <td>133.0</td>\n",
       "      <td>173.174.194.60</td>\n",
       "    </tr>\n",
       "    <tr>\n",
       "      <th>2021-04-21 10:07:24</th>\n",
       "      <td>anomaly-detection/continuous-probabilistic-met...</td>\n",
       "      <td>836</td>\n",
       "      <td>133.0</td>\n",
       "      <td>99.43.137.186</td>\n",
       "    </tr>\n",
       "    <tr>\n",
       "      <th>2021-04-21 10:07:26</th>\n",
       "      <td>anomaly-detection/overview</td>\n",
       "      <td>836</td>\n",
       "      <td>133.0</td>\n",
       "      <td>99.43.137.186</td>\n",
       "    </tr>\n",
       "    <tr>\n",
       "      <th>2021-04-21 10:07:26</th>\n",
       "      <td>anomaly-detection/AnomalyDetectionCartoon.jpeg</td>\n",
       "      <td>836</td>\n",
       "      <td>133.0</td>\n",
       "      <td>99.43.137.186</td>\n",
       "    </tr>\n",
       "    <tr>\n",
       "      <th>2021-04-21 10:07:29</th>\n",
       "      <td>anomaly-detection/overview</td>\n",
       "      <td>844</td>\n",
       "      <td>133.0</td>\n",
       "      <td>24.160.7.8</td>\n",
       "    </tr>\n",
       "    <tr>\n",
       "      <th>2021-04-21 10:07:29</th>\n",
       "      <td>anomaly-detection/continuous-probabilistic-met...</td>\n",
       "      <td>836</td>\n",
       "      <td>133.0</td>\n",
       "      <td>99.43.137.186</td>\n",
       "    </tr>\n",
       "    <tr>\n",
       "      <th>2021-04-21 10:07:29</th>\n",
       "      <td>anomaly-detection/AnomalyDetectionCartoon.jpeg</td>\n",
       "      <td>844</td>\n",
       "      <td>133.0</td>\n",
       "      <td>24.160.7.8</td>\n",
       "    </tr>\n",
       "    <tr>\n",
       "      <th>2021-04-21 10:08:50</th>\n",
       "      <td>anomaly-detection/continuous-probabilistic-met...</td>\n",
       "      <td>841</td>\n",
       "      <td>133.0</td>\n",
       "      <td>99.162.244.233</td>\n",
       "    </tr>\n",
       "    <tr>\n",
       "      <th>2021-04-21 10:21:07</th>\n",
       "      <td>anomaly-detection/continuous-probabilistic-met...</td>\n",
       "      <td>851</td>\n",
       "      <td>133.0</td>\n",
       "      <td>130.45.49.89</td>\n",
       "    </tr>\n",
       "    <tr>\n",
       "      <th>2021-04-21 10:27:44</th>\n",
       "      <td>anomaly-detection/continuous-probabilistic-met...</td>\n",
       "      <td>848</td>\n",
       "      <td>133.0</td>\n",
       "      <td>75.1.166.163</td>\n",
       "    </tr>\n",
       "    <tr>\n",
       "      <th>2021-04-21 10:27:57</th>\n",
       "      <td>/</td>\n",
       "      <td>841</td>\n",
       "      <td>133.0</td>\n",
       "      <td>99.162.244.233</td>\n",
       "    </tr>\n",
       "    <tr>\n",
       "      <th>2021-04-21 10:29:28</th>\n",
       "      <td>anomaly-detection/continuous-probabilistic-met...</td>\n",
       "      <td>841</td>\n",
       "      <td>133.0</td>\n",
       "      <td>99.162.244.233</td>\n",
       "    </tr>\n",
       "    <tr>\n",
       "      <th>2021-04-21 10:32:12</th>\n",
       "      <td>anomaly-detection/continuous-probabilistic-met...</td>\n",
       "      <td>845</td>\n",
       "      <td>133.0</td>\n",
       "      <td>148.66.39.72</td>\n",
       "    </tr>\n",
       "    <tr>\n",
       "      <th>2021-04-21 10:41:21</th>\n",
       "      <td>anomaly-detection/continuous-probabilistic-met...</td>\n",
       "      <td>835</td>\n",
       "      <td>133.0</td>\n",
       "      <td>173.173.109.5</td>\n",
       "    </tr>\n",
       "    <tr>\n",
       "      <th>2021-04-21 10:41:28</th>\n",
       "      <td>sql/mysql-overview</td>\n",
       "      <td>835</td>\n",
       "      <td>133.0</td>\n",
       "      <td>173.173.109.5</td>\n",
       "    </tr>\n",
       "    <tr>\n",
       "      <th>2021-04-21 10:41:38</th>\n",
       "      <td>python/advanced-dataframes</td>\n",
       "      <td>835</td>\n",
       "      <td>133.0</td>\n",
       "      <td>173.173.109.5</td>\n",
       "    </tr>\n",
       "    <tr>\n",
       "      <th>2021-04-21 10:42:22</th>\n",
       "      <td>python/intro-to-seaborn</td>\n",
       "      <td>835</td>\n",
       "      <td>133.0</td>\n",
       "      <td>173.173.109.5</td>\n",
       "    </tr>\n",
       "    <tr>\n",
       "      <th>2021-04-21 10:42:28</th>\n",
       "      <td>fundamentals/visualization-with-excel</td>\n",
       "      <td>835</td>\n",
       "      <td>133.0</td>\n",
       "      <td>173.173.109.5</td>\n",
       "    </tr>\n",
       "    <tr>\n",
       "      <th>2021-04-21 10:43:15</th>\n",
       "      <td>classification/overview</td>\n",
       "      <td>835</td>\n",
       "      <td>133.0</td>\n",
       "      <td>173.173.109.5</td>\n",
       "    </tr>\n",
       "    <tr>\n",
       "      <th>2021-04-21 10:43:15</th>\n",
       "      <td>classification/classical_programming_vs_machin...</td>\n",
       "      <td>835</td>\n",
       "      <td>133.0</td>\n",
       "      <td>173.173.109.5</td>\n",
       "    </tr>\n",
       "    <tr>\n",
       "      <th>2021-04-21 10:43:15</th>\n",
       "      <td>classification/scale_features_or_not.svg</td>\n",
       "      <td>835</td>\n",
       "      <td>133.0</td>\n",
       "      <td>173.173.109.5</td>\n",
       "    </tr>\n",
       "    <tr>\n",
       "      <th>2021-04-21 10:54:24</th>\n",
       "      <td>/</td>\n",
       "      <td>838</td>\n",
       "      <td>133.0</td>\n",
       "      <td>99.158.249.67</td>\n",
       "    </tr>\n",
       "    <tr>\n",
       "      <th>2021-04-21 10:54:33</th>\n",
       "      <td>appendix/professional-development/t-block-less...</td>\n",
       "      <td>838</td>\n",
       "      <td>133.0</td>\n",
       "      <td>99.158.249.67</td>\n",
       "    </tr>\n",
       "    <tr>\n",
       "      <th>2021-04-21 11:08:19</th>\n",
       "      <td>anomaly-detection/continuous-probabilistic-met...</td>\n",
       "      <td>843</td>\n",
       "      <td>133.0</td>\n",
       "      <td>172.58.102.250</td>\n",
       "    </tr>\n",
       "    <tr>\n",
       "      <th>2021-04-21 11:09:00</th>\n",
       "      <td>anomaly-detection/continuous-probabilistic-met...</td>\n",
       "      <td>143</td>\n",
       "      <td>133.0</td>\n",
       "      <td>173.174.194.60</td>\n",
       "    </tr>\n",
       "    <tr>\n",
       "      <th>2021-04-21 11:25:15</th>\n",
       "      <td>anomaly-detection/continuous-probabilistic-met...</td>\n",
       "      <td>840</td>\n",
       "      <td>133.0</td>\n",
       "      <td>162.222.247.26</td>\n",
       "    </tr>\n",
       "    <tr>\n",
       "      <th>2021-04-21 11:25:22</th>\n",
       "      <td>anomaly-detection/continuous-probabilistic-met...</td>\n",
       "      <td>849</td>\n",
       "      <td>133.0</td>\n",
       "      <td>24.243.22.116</td>\n",
       "    </tr>\n",
       "    <tr>\n",
       "      <th>2021-04-21 11:25:22</th>\n",
       "      <td>anomaly-detection/continuous-probabilistic-met...</td>\n",
       "      <td>844</td>\n",
       "      <td>133.0</td>\n",
       "      <td>24.160.7.8</td>\n",
       "    </tr>\n",
       "    <tr>\n",
       "      <th>2021-04-21 11:48:01</th>\n",
       "      <td>/</td>\n",
       "      <td>846</td>\n",
       "      <td>133.0</td>\n",
       "      <td>96.8.248.136</td>\n",
       "    </tr>\n",
       "    <tr>\n",
       "      <th>2021-04-21 11:48:18</th>\n",
       "      <td>anomaly-detection/overview</td>\n",
       "      <td>846</td>\n",
       "      <td>133.0</td>\n",
       "      <td>96.8.248.136</td>\n",
       "    </tr>\n",
       "    <tr>\n",
       "      <th>2021-04-21 11:48:18</th>\n",
       "      <td>anomaly-detection/AnomalyDetectionCartoon.jpeg</td>\n",
       "      <td>846</td>\n",
       "      <td>133.0</td>\n",
       "      <td>96.8.248.136</td>\n",
       "    </tr>\n",
       "    <tr>\n",
       "      <th>2021-04-21 11:48:28</th>\n",
       "      <td>anomaly-detection/continuous-probabilistic-met...</td>\n",
       "      <td>846</td>\n",
       "      <td>133.0</td>\n",
       "      <td>96.8.248.136</td>\n",
       "    </tr>\n",
       "    <tr>\n",
       "      <th>2021-04-21 11:58:42</th>\n",
       "      <td>anomaly-detection/overview</td>\n",
       "      <td>837</td>\n",
       "      <td>133.0</td>\n",
       "      <td>66.69.94.59</td>\n",
       "    </tr>\n",
       "    <tr>\n",
       "      <th>2021-04-21 11:58:42</th>\n",
       "      <td>anomaly-detection/AnomalyDetectionCartoon.jpeg</td>\n",
       "      <td>837</td>\n",
       "      <td>133.0</td>\n",
       "      <td>66.69.94.59</td>\n",
       "    </tr>\n",
       "    <tr>\n",
       "      <th>2021-04-21 11:58:46</th>\n",
       "      <td>anomaly-detection/continuous-probabilistic-met...</td>\n",
       "      <td>837</td>\n",
       "      <td>133.0</td>\n",
       "      <td>66.69.94.59</td>\n",
       "    </tr>\n",
       "    <tr>\n",
       "      <th>2021-04-21 12:08:04</th>\n",
       "      <td>search/search_index.json</td>\n",
       "      <td>841</td>\n",
       "      <td>133.0</td>\n",
       "      <td>99.162.244.233</td>\n",
       "    </tr>\n",
       "    <tr>\n",
       "      <th>2021-04-21 12:23:15</th>\n",
       "      <td>anomaly-detection/continuous-probabilistic-met...</td>\n",
       "      <td>837</td>\n",
       "      <td>133.0</td>\n",
       "      <td>66.69.94.59</td>\n",
       "    </tr>\n",
       "    <tr>\n",
       "      <th>2021-04-21 13:42:46</th>\n",
       "      <td>nlp/project</td>\n",
       "      <td>848</td>\n",
       "      <td>133.0</td>\n",
       "      <td>75.1.166.163</td>\n",
       "    </tr>\n",
       "    <tr>\n",
       "      <th>2021-04-21 13:42:47</th>\n",
       "      <td>nlp/github_repo_language.gif</td>\n",
       "      <td>848</td>\n",
       "      <td>133.0</td>\n",
       "      <td>75.1.166.163</td>\n",
       "    </tr>\n",
       "    <tr>\n",
       "      <th>2021-04-21 15:28:04</th>\n",
       "      <td>anomaly-detection/continuous-probabilistic-met...</td>\n",
       "      <td>848</td>\n",
       "      <td>133.0</td>\n",
       "      <td>75.1.166.163</td>\n",
       "    </tr>\n",
       "    <tr>\n",
       "      <th>2021-04-21 16:01:11</th>\n",
       "      <td>/</td>\n",
       "      <td>841</td>\n",
       "      <td>133.0</td>\n",
       "      <td>99.162.244.233</td>\n",
       "    </tr>\n",
       "    <tr>\n",
       "      <th>2021-04-21 16:01:24</th>\n",
       "      <td>classification/project</td>\n",
       "      <td>841</td>\n",
       "      <td>133.0</td>\n",
       "      <td>99.162.244.233</td>\n",
       "    </tr>\n",
       "    <tr>\n",
       "      <th>2021-04-21 16:14:16</th>\n",
       "      <td>regression/project</td>\n",
       "      <td>841</td>\n",
       "      <td>133.0</td>\n",
       "      <td>99.162.244.233</td>\n",
       "    </tr>\n",
       "    <tr>\n",
       "      <th>2021-04-21 16:15:51</th>\n",
       "      <td>regression/project</td>\n",
       "      <td>841</td>\n",
       "      <td>133.0</td>\n",
       "      <td>99.162.244.233</td>\n",
       "    </tr>\n",
       "    <tr>\n",
       "      <th>2021-04-21 16:23:53</th>\n",
       "      <td>/</td>\n",
       "      <td>143</td>\n",
       "      <td>133.0</td>\n",
       "      <td>173.174.194.60</td>\n",
       "    </tr>\n",
       "    <tr>\n",
       "      <th>2021-04-21 16:23:57</th>\n",
       "      <td>clustering/project</td>\n",
       "      <td>841</td>\n",
       "      <td>133.0</td>\n",
       "      <td>99.162.244.233</td>\n",
       "    </tr>\n",
       "    <tr>\n",
       "      <th>2021-04-21 16:32:50</th>\n",
       "      <td>clustering/project</td>\n",
       "      <td>841</td>\n",
       "      <td>133.0</td>\n",
       "      <td>99.162.244.233</td>\n",
       "    </tr>\n",
       "  </tbody>\n",
       "</table>\n",
       "</div>"
      ],
      "text/plain": [
       "                                                       curriculum_page  \\\n",
       "datetime                                                                 \n",
       "2021-04-21 09:54:59                         anomaly-detection/overview   \n",
       "2021-04-21 09:54:59     anomaly-detection/AnomalyDetectionCartoon.jpeg   \n",
       "2021-04-21 09:54:59     anomaly-detection/AnomalyDetectionCartoon.jpeg   \n",
       "2021-04-21 09:55:07  anomaly-detection/continuous-probabilistic-met...   \n",
       "2021-04-21 10:07:24  anomaly-detection/continuous-probabilistic-met...   \n",
       "2021-04-21 10:07:26                         anomaly-detection/overview   \n",
       "2021-04-21 10:07:26     anomaly-detection/AnomalyDetectionCartoon.jpeg   \n",
       "2021-04-21 10:07:29                         anomaly-detection/overview   \n",
       "2021-04-21 10:07:29  anomaly-detection/continuous-probabilistic-met...   \n",
       "2021-04-21 10:07:29     anomaly-detection/AnomalyDetectionCartoon.jpeg   \n",
       "2021-04-21 10:08:50  anomaly-detection/continuous-probabilistic-met...   \n",
       "2021-04-21 10:21:07  anomaly-detection/continuous-probabilistic-met...   \n",
       "2021-04-21 10:27:44  anomaly-detection/continuous-probabilistic-met...   \n",
       "2021-04-21 10:27:57                                                  /   \n",
       "2021-04-21 10:29:28  anomaly-detection/continuous-probabilistic-met...   \n",
       "2021-04-21 10:32:12  anomaly-detection/continuous-probabilistic-met...   \n",
       "2021-04-21 10:41:21  anomaly-detection/continuous-probabilistic-met...   \n",
       "2021-04-21 10:41:28                                 sql/mysql-overview   \n",
       "2021-04-21 10:41:38                         python/advanced-dataframes   \n",
       "2021-04-21 10:42:22                            python/intro-to-seaborn   \n",
       "2021-04-21 10:42:28              fundamentals/visualization-with-excel   \n",
       "2021-04-21 10:43:15                            classification/overview   \n",
       "2021-04-21 10:43:15  classification/classical_programming_vs_machin...   \n",
       "2021-04-21 10:43:15           classification/scale_features_or_not.svg   \n",
       "2021-04-21 10:54:24                                                  /   \n",
       "2021-04-21 10:54:33  appendix/professional-development/t-block-less...   \n",
       "2021-04-21 11:08:19  anomaly-detection/continuous-probabilistic-met...   \n",
       "2021-04-21 11:09:00  anomaly-detection/continuous-probabilistic-met...   \n",
       "2021-04-21 11:25:15  anomaly-detection/continuous-probabilistic-met...   \n",
       "2021-04-21 11:25:22  anomaly-detection/continuous-probabilistic-met...   \n",
       "2021-04-21 11:25:22  anomaly-detection/continuous-probabilistic-met...   \n",
       "2021-04-21 11:48:01                                                  /   \n",
       "2021-04-21 11:48:18                         anomaly-detection/overview   \n",
       "2021-04-21 11:48:18     anomaly-detection/AnomalyDetectionCartoon.jpeg   \n",
       "2021-04-21 11:48:28  anomaly-detection/continuous-probabilistic-met...   \n",
       "2021-04-21 11:58:42                         anomaly-detection/overview   \n",
       "2021-04-21 11:58:42     anomaly-detection/AnomalyDetectionCartoon.jpeg   \n",
       "2021-04-21 11:58:46  anomaly-detection/continuous-probabilistic-met...   \n",
       "2021-04-21 12:08:04                           search/search_index.json   \n",
       "2021-04-21 12:23:15  anomaly-detection/continuous-probabilistic-met...   \n",
       "2021-04-21 13:42:46                                        nlp/project   \n",
       "2021-04-21 13:42:47                       nlp/github_repo_language.gif   \n",
       "2021-04-21 15:28:04  anomaly-detection/continuous-probabilistic-met...   \n",
       "2021-04-21 16:01:11                                                  /   \n",
       "2021-04-21 16:01:24                             classification/project   \n",
       "2021-04-21 16:14:16                                 regression/project   \n",
       "2021-04-21 16:15:51                                 regression/project   \n",
       "2021-04-21 16:23:53                                                  /   \n",
       "2021-04-21 16:23:57                                 clustering/project   \n",
       "2021-04-21 16:32:50                                 clustering/project   \n",
       "\n",
       "                     userid  cohort              ip  \n",
       "datetime                                             \n",
       "2021-04-21 09:54:59     847   133.0  173.174.194.60  \n",
       "2021-04-21 09:54:59     847   133.0  173.174.194.60  \n",
       "2021-04-21 09:54:59     847   133.0  173.174.194.60  \n",
       "2021-04-21 09:55:07     847   133.0  173.174.194.60  \n",
       "2021-04-21 10:07:24     836   133.0   99.43.137.186  \n",
       "2021-04-21 10:07:26     836   133.0   99.43.137.186  \n",
       "2021-04-21 10:07:26     836   133.0   99.43.137.186  \n",
       "2021-04-21 10:07:29     844   133.0      24.160.7.8  \n",
       "2021-04-21 10:07:29     836   133.0   99.43.137.186  \n",
       "2021-04-21 10:07:29     844   133.0      24.160.7.8  \n",
       "2021-04-21 10:08:50     841   133.0  99.162.244.233  \n",
       "2021-04-21 10:21:07     851   133.0    130.45.49.89  \n",
       "2021-04-21 10:27:44     848   133.0    75.1.166.163  \n",
       "2021-04-21 10:27:57     841   133.0  99.162.244.233  \n",
       "2021-04-21 10:29:28     841   133.0  99.162.244.233  \n",
       "2021-04-21 10:32:12     845   133.0    148.66.39.72  \n",
       "2021-04-21 10:41:21     835   133.0   173.173.109.5  \n",
       "2021-04-21 10:41:28     835   133.0   173.173.109.5  \n",
       "2021-04-21 10:41:38     835   133.0   173.173.109.5  \n",
       "2021-04-21 10:42:22     835   133.0   173.173.109.5  \n",
       "2021-04-21 10:42:28     835   133.0   173.173.109.5  \n",
       "2021-04-21 10:43:15     835   133.0   173.173.109.5  \n",
       "2021-04-21 10:43:15     835   133.0   173.173.109.5  \n",
       "2021-04-21 10:43:15     835   133.0   173.173.109.5  \n",
       "2021-04-21 10:54:24     838   133.0   99.158.249.67  \n",
       "2021-04-21 10:54:33     838   133.0   99.158.249.67  \n",
       "2021-04-21 11:08:19     843   133.0  172.58.102.250  \n",
       "2021-04-21 11:09:00     143   133.0  173.174.194.60  \n",
       "2021-04-21 11:25:15     840   133.0  162.222.247.26  \n",
       "2021-04-21 11:25:22     849   133.0   24.243.22.116  \n",
       "2021-04-21 11:25:22     844   133.0      24.160.7.8  \n",
       "2021-04-21 11:48:01     846   133.0    96.8.248.136  \n",
       "2021-04-21 11:48:18     846   133.0    96.8.248.136  \n",
       "2021-04-21 11:48:18     846   133.0    96.8.248.136  \n",
       "2021-04-21 11:48:28     846   133.0    96.8.248.136  \n",
       "2021-04-21 11:58:42     837   133.0     66.69.94.59  \n",
       "2021-04-21 11:58:42     837   133.0     66.69.94.59  \n",
       "2021-04-21 11:58:46     837   133.0     66.69.94.59  \n",
       "2021-04-21 12:08:04     841   133.0  99.162.244.233  \n",
       "2021-04-21 12:23:15     837   133.0     66.69.94.59  \n",
       "2021-04-21 13:42:46     848   133.0    75.1.166.163  \n",
       "2021-04-21 13:42:47     848   133.0    75.1.166.163  \n",
       "2021-04-21 15:28:04     848   133.0    75.1.166.163  \n",
       "2021-04-21 16:01:11     841   133.0  99.162.244.233  \n",
       "2021-04-21 16:01:24     841   133.0  99.162.244.233  \n",
       "2021-04-21 16:14:16     841   133.0  99.162.244.233  \n",
       "2021-04-21 16:15:51     841   133.0  99.162.244.233  \n",
       "2021-04-21 16:23:53     143   133.0  173.174.194.60  \n",
       "2021-04-21 16:23:57     841   133.0  99.162.244.233  \n",
       "2021-04-21 16:32:50     841   133.0  99.162.244.233  "
      ]
     },
     "execution_count": 14,
     "metadata": {},
     "output_type": "execute_result"
    }
   ],
   "source": [
    "# Let's try to find me! 849\n",
    "easley = data[data['cohort'] == 133]\n",
    "easley.tail(50)"
   ]
  },
  {
   "cell_type": "code",
   "execution_count": 15,
   "metadata": {},
   "outputs": [
    {
     "data": {
      "text/plain": [
       "<AxesSubplot:xlabel='userid', ylabel='Count'>"
      ]
     },
     "execution_count": 15,
     "metadata": {},
     "output_type": "execute_result"
    },
    {
     "data": {
      "image/png": "[encoded data removed]",
      "text/plain": [
       "<Figure size 432x288 with 1 Axes>"
      ]
     },
     "metadata": {
      "needs_background": "light"
     },
     "output_type": "display_data"
    }
   ],
   "source": [
    "# Total number of accesses by student ID in easley\n",
    "\n",
    "easley_students = easley[easley['userid'] > 800]\n",
    "sns.histplot(data = easley_students, x = easley_students.userid, bins = 17)"
   ]
  },
  {
   "cell_type": "code",
   "execution_count": 16,
   "metadata": {},
   "outputs": [
    {
     "data": {
      "text/plain": [
       "845    1891\n",
       "841    1414\n",
       "844    1152\n",
       "837    1131\n",
       "840    1018\n",
       "835     974\n",
       "847     909\n",
       "838     798\n",
       "836     795\n",
       "851     778\n",
       "849     744\n",
       "848     653\n",
       "842     608\n",
       "843     550\n",
       "846     400\n",
       "839      92\n",
       "Name: userid, dtype: int64"
      ]
     },
     "execution_count": 16,
     "metadata": {},
     "output_type": "execute_result"
    }
   ],
   "source": [
    "# The actuual displayed counts\n",
    "\n",
    "easley_students.userid.value_counts()"
   ]
  },
  {
   "cell_type": "code",
   "execution_count": 17,
   "metadata": {
    "scrolled": true
   },
   "outputs": [
    {
     "data": {
      "text/plain": [
       "<AxesSubplot:xlabel='datetime', ylabel='Count'>"
      ]
     },
     "execution_count": 17,
     "metadata": {},
     "output_type": "execute_result"
    },
    {
     "data": {
      "image/png": "[encoded data removed]",
      "text/plain": [
       "<Figure size 432x288 with 1 Axes>"
      ]
     },
     "metadata": {
      "needs_background": "light"
     },
     "output_type": "display_data"
    }
   ],
   "source": [
    "# Total accesses of curriculum by day of the week\n",
    "\n",
    "sns.histplot(data = easley, x = easley.index.day_name())"
   ]
  },
  {
   "cell_type": "code",
   "execution_count": 18,
   "metadata": {},
   "outputs": [
    {
     "data": {
      "text/plain": [
       "<AxesSubplot:xlabel='datetime', ylabel='Count'>"
      ]
     },
     "execution_count": 18,
     "metadata": {},
     "output_type": "execute_result"
    },
    {
     "data": {
      "image/png": "[encoded data removed]",
      "text/plain": [
       "<Figure size 432x288 with 1 Axes>"
      ]
     },
     "metadata": {
      "needs_background": "light"
     },
     "output_type": "display_data"
    }
   ],
   "source": [
    "# My own accesses by day of the week\n",
    "\n",
    "my_stats = easley[easley['userid'] == 849]\n",
    "sns.histplot(data = my_stats, x = my_stats.index.day_name())"
   ]
  },
  {
   "cell_type": "code",
   "execution_count": 21,
   "metadata": {},
   "outputs": [
    {
     "data": {
      "text/plain": [
       "845    0.129\n",
       "841    0.096\n",
       "844    0.078\n",
       "837    0.077\n",
       "840    0.069\n",
       "835    0.066\n",
       "847    0.062\n",
       "838    0.054\n",
       "836    0.054\n",
       "851    0.053\n",
       "849    0.051\n",
       "848    0.044\n",
       "842    0.041\n",
       "843    0.037\n",
       "846    0.027\n",
       "839    0.006\n",
       "Name: userid, dtype: float64"
      ]
     },
     "execution_count": 21,
     "metadata": {},
     "output_type": "execute_result"
    }
   ],
   "source": [
    "# Percent of accesses each student has\n",
    "\n",
    "round((easley_students.userid.value_counts()/14715), 3)"
   ]
  },
  {
   "cell_type": "code",
   "execution_count": null,
   "metadata": {},
   "outputs": [],
   "source": []
  }
 ],
 "metadata": {
  "kernelspec": {
   "display_name": "Python 3",
   "language": "python",
   "name": "python3"
  },
  "language_info": {
   "codemirror_mode": {
    "name": "ipython",
    "version": 3
   },
   "file_extension": ".py",
   "mimetype": "text/x-python",
   "name": "python",
   "nbconvert_exporter": "python",
   "pygments_lexer": "ipython3",
   "version": "3.8.5"
  }
 },
 "nbformat": 4,
 "nbformat_minor": 4
}
