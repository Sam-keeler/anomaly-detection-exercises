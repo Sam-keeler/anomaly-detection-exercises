{
 "cells": [
  {
   "cell_type": "markdown",
   "metadata": {},
   "source": [
    "## Importing packages"
   ]
  },
  {
   "cell_type": "code",
   "execution_count": 31,
   "metadata": {},
   "outputs": [],
   "source": [
    "from __future__ import division\n",
    "import itertools\n",
    "import warnings\n",
    "warnings.filterwarnings(\"ignore\")\n",
    "import matplotlib.pyplot as plt\n",
    "import matplotlib.dates as mdates\n",
    "import numpy as np\n",
    "import pandas as pd\n",
    "import math\n",
    "from env import host, user, password\n",
    "from sklearn import metrics\n",
    "from random import randint\n",
    "from matplotlib import style\n",
    "import seaborn as sns\n",
    "%matplotlib inline\n",
    "from sklearn.preprocessing import StandardScaler\n",
    "from sklearn.cluster import DBSCAN\n",
    "import wrangle"
   ]
  },
  {
   "cell_type": "markdown",
   "metadata": {},
   "source": [
    "## Acquiring grocery dataset"
   ]
  },
  {
   "cell_type": "code",
   "execution_count": 2,
   "metadata": {},
   "outputs": [],
   "source": [
    "def get_grocery_data(host = host, user = user, password = password):\n",
    "    db = 'grocery_db'\n",
    "    return pd.read_sql('SELECT * FROM grocery_customers', f'mysql+pymysql://{user}:{password}@{host}/{db}')"
   ]
  },
  {
   "cell_type": "code",
   "execution_count": 3,
   "metadata": {},
   "outputs": [],
   "source": [
    "grocery = get_grocery_data()"
   ]
  },
  {
   "cell_type": "code",
   "execution_count": 4,
   "metadata": {},
   "outputs": [
    {
     "data": {
      "text/html": [
       "<div>\n",
       "<style scoped>\n",
       "    .dataframe tbody tr th:only-of-type {\n",
       "        vertical-align: middle;\n",
       "    }\n",
       "\n",
       "    .dataframe tbody tr th {\n",
       "        vertical-align: top;\n",
       "    }\n",
       "\n",
       "    .dataframe thead th {\n",
       "        text-align: right;\n",
       "    }\n",
       "</style>\n",
       "<table border=\"1\" class=\"dataframe\">\n",
       "  <thead>\n",
       "    <tr style=\"text-align: right;\">\n",
       "      <th></th>\n",
       "      <th>customer_id</th>\n",
       "      <th>Channel</th>\n",
       "      <th>Region</th>\n",
       "      <th>Fresh</th>\n",
       "      <th>Milk</th>\n",
       "      <th>Grocery</th>\n",
       "      <th>Frozen</th>\n",
       "      <th>Detergents_Paper</th>\n",
       "      <th>Delicassen</th>\n",
       "    </tr>\n",
       "  </thead>\n",
       "  <tbody>\n",
       "    <tr>\n",
       "      <th>0</th>\n",
       "      <td>0</td>\n",
       "      <td>2</td>\n",
       "      <td>3</td>\n",
       "      <td>12669</td>\n",
       "      <td>9656</td>\n",
       "      <td>7561</td>\n",
       "      <td>214</td>\n",
       "      <td>2674</td>\n",
       "      <td>1338</td>\n",
       "    </tr>\n",
       "    <tr>\n",
       "      <th>1</th>\n",
       "      <td>1</td>\n",
       "      <td>2</td>\n",
       "      <td>3</td>\n",
       "      <td>7057</td>\n",
       "      <td>9810</td>\n",
       "      <td>9568</td>\n",
       "      <td>1762</td>\n",
       "      <td>3293</td>\n",
       "      <td>1776</td>\n",
       "    </tr>\n",
       "    <tr>\n",
       "      <th>2</th>\n",
       "      <td>2</td>\n",
       "      <td>2</td>\n",
       "      <td>3</td>\n",
       "      <td>6353</td>\n",
       "      <td>8808</td>\n",
       "      <td>7684</td>\n",
       "      <td>2405</td>\n",
       "      <td>3516</td>\n",
       "      <td>7844</td>\n",
       "    </tr>\n",
       "    <tr>\n",
       "      <th>3</th>\n",
       "      <td>3</td>\n",
       "      <td>1</td>\n",
       "      <td>3</td>\n",
       "      <td>13265</td>\n",
       "      <td>1196</td>\n",
       "      <td>4221</td>\n",
       "      <td>6404</td>\n",
       "      <td>507</td>\n",
       "      <td>1788</td>\n",
       "    </tr>\n",
       "    <tr>\n",
       "      <th>4</th>\n",
       "      <td>4</td>\n",
       "      <td>2</td>\n",
       "      <td>3</td>\n",
       "      <td>22615</td>\n",
       "      <td>5410</td>\n",
       "      <td>7198</td>\n",
       "      <td>3915</td>\n",
       "      <td>1777</td>\n",
       "      <td>5185</td>\n",
       "    </tr>\n",
       "    <tr>\n",
       "      <th>...</th>\n",
       "      <td>...</td>\n",
       "      <td>...</td>\n",
       "      <td>...</td>\n",
       "      <td>...</td>\n",
       "      <td>...</td>\n",
       "      <td>...</td>\n",
       "      <td>...</td>\n",
       "      <td>...</td>\n",
       "      <td>...</td>\n",
       "    </tr>\n",
       "    <tr>\n",
       "      <th>435</th>\n",
       "      <td>435</td>\n",
       "      <td>1</td>\n",
       "      <td>3</td>\n",
       "      <td>29703</td>\n",
       "      <td>12051</td>\n",
       "      <td>16027</td>\n",
       "      <td>13135</td>\n",
       "      <td>182</td>\n",
       "      <td>2204</td>\n",
       "    </tr>\n",
       "    <tr>\n",
       "      <th>436</th>\n",
       "      <td>436</td>\n",
       "      <td>1</td>\n",
       "      <td>3</td>\n",
       "      <td>39228</td>\n",
       "      <td>1431</td>\n",
       "      <td>764</td>\n",
       "      <td>4510</td>\n",
       "      <td>93</td>\n",
       "      <td>2346</td>\n",
       "    </tr>\n",
       "    <tr>\n",
       "      <th>437</th>\n",
       "      <td>437</td>\n",
       "      <td>2</td>\n",
       "      <td>3</td>\n",
       "      <td>14531</td>\n",
       "      <td>15488</td>\n",
       "      <td>30243</td>\n",
       "      <td>437</td>\n",
       "      <td>14841</td>\n",
       "      <td>1867</td>\n",
       "    </tr>\n",
       "    <tr>\n",
       "      <th>438</th>\n",
       "      <td>438</td>\n",
       "      <td>1</td>\n",
       "      <td>3</td>\n",
       "      <td>10290</td>\n",
       "      <td>1981</td>\n",
       "      <td>2232</td>\n",
       "      <td>1038</td>\n",
       "      <td>168</td>\n",
       "      <td>2125</td>\n",
       "    </tr>\n",
       "    <tr>\n",
       "      <th>439</th>\n",
       "      <td>439</td>\n",
       "      <td>1</td>\n",
       "      <td>3</td>\n",
       "      <td>2787</td>\n",
       "      <td>1698</td>\n",
       "      <td>2510</td>\n",
       "      <td>65</td>\n",
       "      <td>477</td>\n",
       "      <td>52</td>\n",
       "    </tr>\n",
       "  </tbody>\n",
       "</table>\n",
       "<p>440 rows × 9 columns</p>\n",
       "</div>"
      ],
      "text/plain": [
       "     customer_id  Channel  Region  Fresh   Milk  Grocery  Frozen  \\\n",
       "0              0        2       3  12669   9656     7561     214   \n",
       "1              1        2       3   7057   9810     9568    1762   \n",
       "2              2        2       3   6353   8808     7684    2405   \n",
       "3              3        1       3  13265   1196     4221    6404   \n",
       "4              4        2       3  22615   5410     7198    3915   \n",
       "..           ...      ...     ...    ...    ...      ...     ...   \n",
       "435          435        1       3  29703  12051    16027   13135   \n",
       "436          436        1       3  39228   1431      764    4510   \n",
       "437          437        2       3  14531  15488    30243     437   \n",
       "438          438        1       3  10290   1981     2232    1038   \n",
       "439          439        1       3   2787   1698     2510      65   \n",
       "\n",
       "     Detergents_Paper  Delicassen  \n",
       "0                2674        1338  \n",
       "1                3293        1776  \n",
       "2                3516        7844  \n",
       "3                 507        1788  \n",
       "4                1777        5185  \n",
       "..                ...         ...  \n",
       "435               182        2204  \n",
       "436                93        2346  \n",
       "437             14841        1867  \n",
       "438               168        2125  \n",
       "439               477          52  \n",
       "\n",
       "[440 rows x 9 columns]"
      ]
     },
     "execution_count": 4,
     "metadata": {},
     "output_type": "execute_result"
    }
   ],
   "source": [
    "grocery"
   ]
  },
  {
   "cell_type": "markdown",
   "metadata": {},
   "source": [
    "### Making the clusters"
   ]
  },
  {
   "cell_type": "code",
   "execution_count": 70,
   "metadata": {},
   "outputs": [
    {
     "data": {
      "text/plain": [
       "<AxesSubplot:xlabel='Fresh', ylabel='Milk'>"
      ]
     },
     "execution_count": 70,
     "metadata": {},
     "output_type": "execute_result"
    },
    {
     "data": {
      "image/png": "[encoded data removed]",
      "text/plain": [
       "<Figure size 432x288 with 1 Axes>"
      ]
     },
     "metadata": {
      "needs_background": "light"
     },
     "output_type": "display_data"
    }
   ],
   "source": [
    "cluster_grocery = grocery[['Fresh', 'Milk', 'Grocery', 'Frozen']]\n",
    "np_array = cluster_grocery.values.astype(\"float32\", copy = False)\n",
    "stscaler = StandardScaler().fit(np_array)\n",
    "np_array = stscaler.transform(np_array)\n",
    "dbsc = DBSCAN(eps = .85, min_samples = 15).fit(np_array)\n",
    "labels = dbsc.labels_\n",
    "cluster_grocery['labels'] = labels\n",
    "cluster_grocery.labels.value_counts()\n",
    "\n",
    "sns.scatterplot(cluster_grocery.Fresh, cluster_grocery.Milk, hue=cluster_grocery.labels)"
   ]
  },
  {
   "cell_type": "code",
   "execution_count": 71,
   "metadata": {},
   "outputs": [
    {
     "data": {
      "text/plain": [
       "<AxesSubplot:xlabel='Grocery', ylabel='Frozen'>"
      ]
     },
     "execution_count": 71,
     "metadata": {},
     "output_type": "execute_result"
    },
    {
     "data": {
      "image/png": "[encoded data removed]",
      "text/plain": [
       "<Figure size 432x288 with 1 Axes>"
      ]
     },
     "metadata": {
      "needs_background": "light"
     },
     "output_type": "display_data"
    }
   ],
   "source": [
    "sns.scatterplot(cluster_grocery.Grocery, cluster_grocery.Frozen, hue=cluster_grocery.labels)"
   ]
  },
  {
   "cell_type": "code",
   "execution_count": 10,
   "metadata": {},
   "outputs": [
    {
     "data": {
      "text/plain": [
       " 0    380\n",
       "-1     60\n",
       "Name: labels, dtype: int64"
      ]
     },
     "execution_count": 10,
     "metadata": {},
     "output_type": "execute_result"
    }
   ],
   "source": [
    "cluster_grocery.labels.value_counts()"
   ]
  },
  {
   "cell_type": "code",
   "execution_count": 11,
   "metadata": {},
   "outputs": [],
   "source": [
    "the_in = cluster_grocery[cluster_grocery['labels'] == 0]\n",
    "the_out = cluster_grocery[cluster_grocery['labels'] == -1]"
   ]
  },
  {
   "cell_type": "code",
   "execution_count": 12,
   "metadata": {},
   "outputs": [
    {
     "data": {
      "text/plain": [
       "(              Fresh          Milk       Grocery        Frozen  labels\n",
       " count    380.000000    380.000000    380.000000    380.000000   380.0\n",
       " mean    9875.215789   4298.215789   6404.002632   2281.886842     0.0\n",
       " std     8595.883828   3517.576334   5849.030251   2364.959897     0.0\n",
       " min        3.000000     55.000000      3.000000     25.000000     0.0\n",
       " 25%     2989.750000   1432.500000   2061.500000    668.250000     0.0\n",
       " 50%     7678.500000   3274.000000   4099.500000   1391.000000     0.0\n",
       " 75%    15099.000000   6329.500000   9435.500000   2996.500000     0.0\n",
       " max    40254.000000  15729.000000  26870.000000  11559.000000     0.0,\n",
       "                Fresh          Milk       Grocery        Frozen  labels\n",
       " count      60.000000     60.000000     60.000000     60.000000    60.0\n",
       " mean    25459.150000  15283.916667  17750.683333   8075.550000    -1.0\n",
       " std     22410.532905  14826.172990  18415.479834  10485.801907     0.0\n",
       " min         3.000000    286.000000    471.000000     36.000000    -1.0\n",
       " 25%      8158.250000   3813.000000   4712.000000   1150.500000    -1.0\n",
       " 50%     22482.000000  12185.000000  12183.000000   5109.500000    -1.0\n",
       " 75%     41118.750000  21904.500000  27284.500000  12710.500000    -1.0\n",
       " max    112151.000000  73498.000000  92780.000000  60869.000000    -1.0)"
      ]
     },
     "execution_count": 12,
     "metadata": {},
     "output_type": "execute_result"
    }
   ],
   "source": [
    "# Outliers seem to include only those that are extremely high for this data set\n",
    "\n",
    "the_in.describe(), the_out.describe()"
   ]
  },
  {
   "cell_type": "markdown",
   "metadata": {},
   "source": [
    "## Zillow dataset"
   ]
  },
  {
   "cell_type": "code",
   "execution_count": 80,
   "metadata": {},
   "outputs": [],
   "source": [
    "df = wrangle.acquire_zillow()\n",
    "df = wrangle.handle_missing_values(df)\n",
    "df = df[(df['propertylandusetypeid'] == 261) | (df['propertylandusetypeid'] == 262) | (df['propertylandusetypeid'] == 263) | (df['propertylandusetypeid'] == 273) | (df['propertylandusetypeid'] == 275) | (df['propertylandusetypeid'] == 276) | (df['propertylandusetypeid'] == 279)]\n",
    "df = df[(df.bedroomcnt > 0) & (df.bathroomcnt > 0) & ((df.unitcnt<=1)|df.unitcnt.isnull())\\\n",
    "    & (df.calculatedfinishedsquarefeet>350)]\n",
    "df.drop(columns = ['finishedsquarefeet12', 'propertycountylandusecode', 'propertyzoningdesc',\n",
    "    'regionidcity', 'assessmentyear', 'id', 'fullbathcnt'], inplace = True)\n",
    "df.fips.replace({6037: 'Los Angeles', 6059: 'Orange', 6111: 'Ventura'}, inplace = True)\n",
    "df.rename(columns = {'fips': 'county'}, inplace = True)\n",
    "df.unitcnt.fillna(1, inplace = True)\n",
    "df.heatingorsystemdesc.fillna('None', inplace = True)\n",
    "df.lotsizesquarefeet.fillna(7313, inplace = True)\n",
    "df.buildingqualitytypeid.fillna(6.0, inplace = True)"
   ]
  },
  {
   "cell_type": "code",
   "execution_count": 81,
   "metadata": {},
   "outputs": [
    {
     "data": {
      "text/html": [
       "<div>\n",
       "<style scoped>\n",
       "    .dataframe tbody tr th:only-of-type {\n",
       "        vertical-align: middle;\n",
       "    }\n",
       "\n",
       "    .dataframe tbody tr th {\n",
       "        vertical-align: top;\n",
       "    }\n",
       "\n",
       "    .dataframe thead th {\n",
       "        text-align: right;\n",
       "    }\n",
       "</style>\n",
       "<table border=\"1\" class=\"dataframe\">\n",
       "  <thead>\n",
       "    <tr style=\"text-align: right;\">\n",
       "      <th></th>\n",
       "      <th>parcelid</th>\n",
       "      <th>propertylandusetypeid</th>\n",
       "      <th>heatingorsystemtypeid</th>\n",
       "      <th>bathroomcnt</th>\n",
       "      <th>bedroomcnt</th>\n",
       "      <th>buildingqualitytypeid</th>\n",
       "      <th>calculatedbathnbr</th>\n",
       "      <th>calculatedfinishedsquarefeet</th>\n",
       "      <th>county</th>\n",
       "      <th>latitude</th>\n",
       "      <th>...</th>\n",
       "      <th>yearbuilt</th>\n",
       "      <th>structuretaxvaluedollarcnt</th>\n",
       "      <th>taxvaluedollarcnt</th>\n",
       "      <th>landtaxvaluedollarcnt</th>\n",
       "      <th>taxamount</th>\n",
       "      <th>censustractandblock</th>\n",
       "      <th>max(logerror)</th>\n",
       "      <th>transactiondate</th>\n",
       "      <th>heatingorsystemdesc</th>\n",
       "      <th>propertylandusedesc</th>\n",
       "    </tr>\n",
       "  </thead>\n",
       "  <tbody>\n",
       "    <tr>\n",
       "      <th>0</th>\n",
       "      <td>10711855</td>\n",
       "      <td>261.0</td>\n",
       "      <td>2.0</td>\n",
       "      <td>2.0</td>\n",
       "      <td>3.0</td>\n",
       "      <td>8.0</td>\n",
       "      <td>2.0</td>\n",
       "      <td>2107.0</td>\n",
       "      <td>Los Angeles</td>\n",
       "      <td>34222559.0</td>\n",
       "      <td>...</td>\n",
       "      <td>1972.0</td>\n",
       "      <td>249655.0</td>\n",
       "      <td>624139.0</td>\n",
       "      <td>374484.0</td>\n",
       "      <td>7659.36</td>\n",
       "      <td>6.037113e+13</td>\n",
       "      <td>-0.007357</td>\n",
       "      <td>2017-07-07</td>\n",
       "      <td>Central</td>\n",
       "      <td>Single Family Residential</td>\n",
       "    </tr>\n",
       "    <tr>\n",
       "      <th>1</th>\n",
       "      <td>10711877</td>\n",
       "      <td>261.0</td>\n",
       "      <td>2.0</td>\n",
       "      <td>2.0</td>\n",
       "      <td>4.0</td>\n",
       "      <td>8.0</td>\n",
       "      <td>2.0</td>\n",
       "      <td>1882.0</td>\n",
       "      <td>Los Angeles</td>\n",
       "      <td>34220261.0</td>\n",
       "      <td>...</td>\n",
       "      <td>1972.0</td>\n",
       "      <td>253000.0</td>\n",
       "      <td>660000.0</td>\n",
       "      <td>407000.0</td>\n",
       "      <td>8123.91</td>\n",
       "      <td>6.037113e+13</td>\n",
       "      <td>0.021066</td>\n",
       "      <td>2017-08-29</td>\n",
       "      <td>Central</td>\n",
       "      <td>Single Family Residential</td>\n",
       "    </tr>\n",
       "    <tr>\n",
       "      <th>2</th>\n",
       "      <td>10711888</td>\n",
       "      <td>261.0</td>\n",
       "      <td>2.0</td>\n",
       "      <td>2.0</td>\n",
       "      <td>4.0</td>\n",
       "      <td>8.0</td>\n",
       "      <td>2.0</td>\n",
       "      <td>1882.0</td>\n",
       "      <td>Los Angeles</td>\n",
       "      <td>34222491.0</td>\n",
       "      <td>...</td>\n",
       "      <td>1972.0</td>\n",
       "      <td>257591.0</td>\n",
       "      <td>542923.0</td>\n",
       "      <td>285332.0</td>\n",
       "      <td>6673.24</td>\n",
       "      <td>6.037113e+13</td>\n",
       "      <td>0.077174</td>\n",
       "      <td>2017-04-04</td>\n",
       "      <td>Central</td>\n",
       "      <td>Single Family Residential</td>\n",
       "    </tr>\n",
       "    <tr>\n",
       "      <th>3</th>\n",
       "      <td>10711910</td>\n",
       "      <td>261.0</td>\n",
       "      <td>2.0</td>\n",
       "      <td>2.0</td>\n",
       "      <td>3.0</td>\n",
       "      <td>8.0</td>\n",
       "      <td>2.0</td>\n",
       "      <td>1477.0</td>\n",
       "      <td>Los Angeles</td>\n",
       "      <td>34221864.0</td>\n",
       "      <td>...</td>\n",
       "      <td>1960.0</td>\n",
       "      <td>57968.0</td>\n",
       "      <td>78031.0</td>\n",
       "      <td>20063.0</td>\n",
       "      <td>1116.46</td>\n",
       "      <td>6.037113e+13</td>\n",
       "      <td>-0.041238</td>\n",
       "      <td>2017-03-17</td>\n",
       "      <td>Central</td>\n",
       "      <td>Single Family Residential</td>\n",
       "    </tr>\n",
       "    <tr>\n",
       "      <th>4</th>\n",
       "      <td>10711923</td>\n",
       "      <td>261.0</td>\n",
       "      <td>2.0</td>\n",
       "      <td>2.0</td>\n",
       "      <td>4.0</td>\n",
       "      <td>8.0</td>\n",
       "      <td>2.0</td>\n",
       "      <td>1918.0</td>\n",
       "      <td>Los Angeles</td>\n",
       "      <td>34220619.0</td>\n",
       "      <td>...</td>\n",
       "      <td>1960.0</td>\n",
       "      <td>167869.0</td>\n",
       "      <td>415459.0</td>\n",
       "      <td>247590.0</td>\n",
       "      <td>5239.85</td>\n",
       "      <td>6.037113e+13</td>\n",
       "      <td>-0.009496</td>\n",
       "      <td>2017-03-24</td>\n",
       "      <td>Central</td>\n",
       "      <td>Single Family Residential</td>\n",
       "    </tr>\n",
       "    <tr>\n",
       "      <th>...</th>\n",
       "      <td>...</td>\n",
       "      <td>...</td>\n",
       "      <td>...</td>\n",
       "      <td>...</td>\n",
       "      <td>...</td>\n",
       "      <td>...</td>\n",
       "      <td>...</td>\n",
       "      <td>...</td>\n",
       "      <td>...</td>\n",
       "      <td>...</td>\n",
       "      <td>...</td>\n",
       "      <td>...</td>\n",
       "      <td>...</td>\n",
       "      <td>...</td>\n",
       "      <td>...</td>\n",
       "      <td>...</td>\n",
       "      <td>...</td>\n",
       "      <td>...</td>\n",
       "      <td>...</td>\n",
       "      <td>...</td>\n",
       "      <td>...</td>\n",
       "    </tr>\n",
       "    <tr>\n",
       "      <th>77362</th>\n",
       "      <td>167636727</td>\n",
       "      <td>261.0</td>\n",
       "      <td>2.0</td>\n",
       "      <td>3.0</td>\n",
       "      <td>4.0</td>\n",
       "      <td>4.0</td>\n",
       "      <td>3.0</td>\n",
       "      <td>2670.0</td>\n",
       "      <td>Los Angeles</td>\n",
       "      <td>34681736.0</td>\n",
       "      <td>...</td>\n",
       "      <td>2006.0</td>\n",
       "      <td>182200.0</td>\n",
       "      <td>242900.0</td>\n",
       "      <td>60700.0</td>\n",
       "      <td>3865.75</td>\n",
       "      <td>NaN</td>\n",
       "      <td>0.016445</td>\n",
       "      <td>2017-07-07</td>\n",
       "      <td>Central</td>\n",
       "      <td>Single Family Residential</td>\n",
       "    </tr>\n",
       "    <tr>\n",
       "      <th>77365</th>\n",
       "      <td>167637054</td>\n",
       "      <td>261.0</td>\n",
       "      <td>7.0</td>\n",
       "      <td>1.0</td>\n",
       "      <td>2.0</td>\n",
       "      <td>7.0</td>\n",
       "      <td>1.0</td>\n",
       "      <td>756.0</td>\n",
       "      <td>Los Angeles</td>\n",
       "      <td>33863071.0</td>\n",
       "      <td>...</td>\n",
       "      <td>1953.0</td>\n",
       "      <td>20083.0</td>\n",
       "      <td>84683.0</td>\n",
       "      <td>64600.0</td>\n",
       "      <td>1631.15</td>\n",
       "      <td>NaN</td>\n",
       "      <td>-0.217256</td>\n",
       "      <td>2017-01-19</td>\n",
       "      <td>Floor/Wall</td>\n",
       "      <td>Single Family Residential</td>\n",
       "    </tr>\n",
       "    <tr>\n",
       "      <th>77369</th>\n",
       "      <td>167637371</td>\n",
       "      <td>261.0</td>\n",
       "      <td>2.0</td>\n",
       "      <td>5.0</td>\n",
       "      <td>4.0</td>\n",
       "      <td>6.0</td>\n",
       "      <td>5.0</td>\n",
       "      <td>4000.0</td>\n",
       "      <td>Los Angeles</td>\n",
       "      <td>34089958.0</td>\n",
       "      <td>...</td>\n",
       "      <td>2013.0</td>\n",
       "      <td>1664376.0</td>\n",
       "      <td>2597367.0</td>\n",
       "      <td>932991.0</td>\n",
       "      <td>54391.29</td>\n",
       "      <td>NaN</td>\n",
       "      <td>2.069414</td>\n",
       "      <td>2017-07-31</td>\n",
       "      <td>Central</td>\n",
       "      <td>Single Family Residential</td>\n",
       "    </tr>\n",
       "    <tr>\n",
       "      <th>77370</th>\n",
       "      <td>167638003</td>\n",
       "      <td>261.0</td>\n",
       "      <td>2.0</td>\n",
       "      <td>3.0</td>\n",
       "      <td>3.0</td>\n",
       "      <td>4.0</td>\n",
       "      <td>3.0</td>\n",
       "      <td>2108.0</td>\n",
       "      <td>Los Angeles</td>\n",
       "      <td>34126076.0</td>\n",
       "      <td>...</td>\n",
       "      <td>2014.0</td>\n",
       "      <td>303559.0</td>\n",
       "      <td>709659.0</td>\n",
       "      <td>406100.0</td>\n",
       "      <td>8621.13</td>\n",
       "      <td>NaN</td>\n",
       "      <td>-0.158701</td>\n",
       "      <td>2017-06-14</td>\n",
       "      <td>Central</td>\n",
       "      <td>Single Family Residential</td>\n",
       "    </tr>\n",
       "    <tr>\n",
       "      <th>77373</th>\n",
       "      <td>167639152</td>\n",
       "      <td>261.0</td>\n",
       "      <td>2.0</td>\n",
       "      <td>4.0</td>\n",
       "      <td>5.0</td>\n",
       "      <td>4.0</td>\n",
       "      <td>4.0</td>\n",
       "      <td>4232.0</td>\n",
       "      <td>Los Angeles</td>\n",
       "      <td>33981300.0</td>\n",
       "      <td>...</td>\n",
       "      <td>1977.0</td>\n",
       "      <td>800000.0</td>\n",
       "      <td>1600000.0</td>\n",
       "      <td>800000.0</td>\n",
       "      <td>17926.36</td>\n",
       "      <td>NaN</td>\n",
       "      <td>0.019842</td>\n",
       "      <td>2017-05-12</td>\n",
       "      <td>Central</td>\n",
       "      <td>Single Family Residential</td>\n",
       "    </tr>\n",
       "  </tbody>\n",
       "</table>\n",
       "<p>52224 rows × 27 columns</p>\n",
       "</div>"
      ],
      "text/plain": [
       "        parcelid  propertylandusetypeid  heatingorsystemtypeid  bathroomcnt  \\\n",
       "0       10711855                  261.0                    2.0          2.0   \n",
       "1       10711877                  261.0                    2.0          2.0   \n",
       "2       10711888                  261.0                    2.0          2.0   \n",
       "3       10711910                  261.0                    2.0          2.0   \n",
       "4       10711923                  261.0                    2.0          2.0   \n",
       "...          ...                    ...                    ...          ...   \n",
       "77362  167636727                  261.0                    2.0          3.0   \n",
       "77365  167637054                  261.0                    7.0          1.0   \n",
       "77369  167637371                  261.0                    2.0          5.0   \n",
       "77370  167638003                  261.0                    2.0          3.0   \n",
       "77373  167639152                  261.0                    2.0          4.0   \n",
       "\n",
       "       bedroomcnt  buildingqualitytypeid  calculatedbathnbr  \\\n",
       "0             3.0                    8.0                2.0   \n",
       "1             4.0                    8.0                2.0   \n",
       "2             4.0                    8.0                2.0   \n",
       "3             3.0                    8.0                2.0   \n",
       "4             4.0                    8.0                2.0   \n",
       "...           ...                    ...                ...   \n",
       "77362         4.0                    4.0                3.0   \n",
       "77365         2.0                    7.0                1.0   \n",
       "77369         4.0                    6.0                5.0   \n",
       "77370         3.0                    4.0                3.0   \n",
       "77373         5.0                    4.0                4.0   \n",
       "\n",
       "       calculatedfinishedsquarefeet       county    latitude  ...  yearbuilt  \\\n",
       "0                            2107.0  Los Angeles  34222559.0  ...     1972.0   \n",
       "1                            1882.0  Los Angeles  34220261.0  ...     1972.0   \n",
       "2                            1882.0  Los Angeles  34222491.0  ...     1972.0   \n",
       "3                            1477.0  Los Angeles  34221864.0  ...     1960.0   \n",
       "4                            1918.0  Los Angeles  34220619.0  ...     1960.0   \n",
       "...                             ...          ...         ...  ...        ...   \n",
       "77362                        2670.0  Los Angeles  34681736.0  ...     2006.0   \n",
       "77365                         756.0  Los Angeles  33863071.0  ...     1953.0   \n",
       "77369                        4000.0  Los Angeles  34089958.0  ...     2013.0   \n",
       "77370                        2108.0  Los Angeles  34126076.0  ...     2014.0   \n",
       "77373                        4232.0  Los Angeles  33981300.0  ...     1977.0   \n",
       "\n",
       "       structuretaxvaluedollarcnt  taxvaluedollarcnt  landtaxvaluedollarcnt  \\\n",
       "0                        249655.0           624139.0               374484.0   \n",
       "1                        253000.0           660000.0               407000.0   \n",
       "2                        257591.0           542923.0               285332.0   \n",
       "3                         57968.0            78031.0                20063.0   \n",
       "4                        167869.0           415459.0               247590.0   \n",
       "...                           ...                ...                    ...   \n",
       "77362                    182200.0           242900.0                60700.0   \n",
       "77365                     20083.0            84683.0                64600.0   \n",
       "77369                   1664376.0          2597367.0               932991.0   \n",
       "77370                    303559.0           709659.0               406100.0   \n",
       "77373                    800000.0          1600000.0               800000.0   \n",
       "\n",
       "       taxamount  censustractandblock  max(logerror)  transactiondate  \\\n",
       "0        7659.36         6.037113e+13      -0.007357       2017-07-07   \n",
       "1        8123.91         6.037113e+13       0.021066       2017-08-29   \n",
       "2        6673.24         6.037113e+13       0.077174       2017-04-04   \n",
       "3        1116.46         6.037113e+13      -0.041238       2017-03-17   \n",
       "4        5239.85         6.037113e+13      -0.009496       2017-03-24   \n",
       "...          ...                  ...            ...              ...   \n",
       "77362    3865.75                  NaN       0.016445       2017-07-07   \n",
       "77365    1631.15                  NaN      -0.217256       2017-01-19   \n",
       "77369   54391.29                  NaN       2.069414       2017-07-31   \n",
       "77370    8621.13                  NaN      -0.158701       2017-06-14   \n",
       "77373   17926.36                  NaN       0.019842       2017-05-12   \n",
       "\n",
       "       heatingorsystemdesc        propertylandusedesc  \n",
       "0                  Central  Single Family Residential  \n",
       "1                  Central  Single Family Residential  \n",
       "2                  Central  Single Family Residential  \n",
       "3                  Central  Single Family Residential  \n",
       "4                  Central  Single Family Residential  \n",
       "...                    ...                        ...  \n",
       "77362              Central  Single Family Residential  \n",
       "77365           Floor/Wall  Single Family Residential  \n",
       "77369              Central  Single Family Residential  \n",
       "77370              Central  Single Family Residential  \n",
       "77373              Central  Single Family Residential  \n",
       "\n",
       "[52224 rows x 27 columns]"
      ]
     },
     "execution_count": 81,
     "metadata": {},
     "output_type": "execute_result"
    }
   ],
   "source": [
    "df"
   ]
  },
  {
   "cell_type": "code",
   "execution_count": 82,
   "metadata": {},
   "outputs": [
    {
     "data": {
      "text/plain": [
       " 0    23295\n",
       " 1    15104\n",
       " 3     8335\n",
       " 2     3724\n",
       "-1     1766\n",
       "Name: labels, dtype: int64"
      ]
     },
     "execution_count": 82,
     "metadata": {},
     "output_type": "execute_result"
    }
   ],
   "source": [
    "zillow = df[['bedroomcnt', 'calculatedfinishedsquarefeet']]\n",
    "np_array = zillow.values.astype(\"float32\", copy = False)\n",
    "stscaler = StandardScaler().fit(np_array)\n",
    "np_array = stscaler.transform(np_array)\n",
    "dbsc = DBSCAN(eps = .95, min_samples = 1000).fit(np_array)\n",
    "labels = dbsc.labels_\n",
    "zillow['labels'] = labels\n",
    "zillow.labels.value_counts()"
   ]
  },
  {
   "cell_type": "code",
   "execution_count": 83,
   "metadata": {},
   "outputs": [
    {
     "data": {
      "text/plain": [
       "<AxesSubplot:xlabel='bedroomcnt', ylabel='calculatedfinishedsquarefeet'>"
      ]
     },
     "execution_count": 83,
     "metadata": {},
     "output_type": "execute_result"
    },
    {
     "data": {
      "image/png": "[encoded data removed]",
      "text/plain": [
       "<Figure size 432x288 with 1 Axes>"
      ]
     },
     "metadata": {
      "needs_background": "light"
     },
     "output_type": "display_data"
    }
   ],
   "source": [
    "sns.scatterplot(zillow.bedroomcnt, zillow.calculatedfinishedsquarefeet, hue=zillow.labels)"
   ]
  },
  {
   "cell_type": "code",
   "execution_count": 84,
   "metadata": {},
   "outputs": [],
   "source": [
    "the_in = zillow[zillow['labels'] != -1]\n",
    "the_out = zillow[zillow['labels'] == -1]"
   ]
  },
  {
   "cell_type": "code",
   "execution_count": 85,
   "metadata": {},
   "outputs": [
    {
     "name": "stdout",
     "output_type": "stream",
     "text": [
      "The IN\n",
      "         bedroomcnt  calculatedfinishedsquarefeet        labels\n",
      "count  50458.000000                  50458.000000  50458.000000\n",
      "mean       3.281759                   1862.870427      0.942507\n",
      "std        0.824843                    816.985221      1.092218\n",
      "min        2.000000                    468.000000      0.000000\n",
      "25%        3.000000                   1272.000000      0.000000\n",
      "50%        3.000000                   1649.000000      1.000000\n",
      "75%        4.000000                   2259.000000      1.000000\n",
      "max        5.000000                   5510.000000      3.000000\n",
      "------------------\n",
      "The OUT\n",
      "        bedroomcnt  calculatedfinishedsquarefeet  labels\n",
      "count  1766.000000                   1766.000000  1766.0\n",
      "mean      4.057191                   3626.710079    -1.0\n",
      "std       2.369210                   2736.258304     0.0\n",
      "min       1.000000                    360.000000    -1.0\n",
      "25%       1.000000                    913.000000    -1.0\n",
      "50%       5.000000                   3223.000000    -1.0\n",
      "75%       6.000000                   5769.250000    -1.0\n",
      "max      11.000000                  21929.000000    -1.0\n"
     ]
    },
    {
     "data": {
      "text/plain": [
       "(None, None, None, None, None)"
      ]
     },
     "execution_count": 85,
     "metadata": {},
     "output_type": "execute_result"
    }
   ],
   "source": [
    "# Outliers seem to be any property with less than 2 bedrooms or greater than 5, or a property with less than 468 \n",
    "# square feet or greater than 5318 square feet. Other clusters seem to just be based on bedroom count\n",
    "\n",
    "print('The IN'), print(the_in.describe()), print('------------------'), print('The OUT'), print(the_out.describe())"
   ]
  },
  {
   "cell_type": "code",
   "execution_count": 86,
   "metadata": {},
   "outputs": [
    {
     "data": {
      "text/plain": [
       " 0    23207\n",
       " 1    15004\n",
       " 4     8279\n",
       " 2     3718\n",
       "-1     1327\n",
       " 3      565\n",
       " 5      124\n",
       "Name: labels, dtype: int64"
      ]
     },
     "execution_count": 86,
     "metadata": {},
     "output_type": "execute_result"
    }
   ],
   "source": [
    "zillow = df[['bedroomcnt', 'calculatedfinishedsquarefeet']]\n",
    "np_array = zillow.values.astype(\"float32\", copy = False)\n",
    "stscaler = StandardScaler().fit(np_array)\n",
    "np_array = stscaler.transform(np_array)\n",
    "dbsc = DBSCAN(eps = .2, min_samples = 100).fit(np_array)\n",
    "labels = dbsc.labels_\n",
    "zillow['labels'] = labels\n",
    "zillow.labels.value_counts()"
   ]
  },
  {
   "cell_type": "code",
   "execution_count": 87,
   "metadata": {},
   "outputs": [
    {
     "data": {
      "text/plain": [
       "<AxesSubplot:xlabel='bedroomcnt', ylabel='calculatedfinishedsquarefeet'>"
      ]
     },
     "execution_count": 87,
     "metadata": {},
     "output_type": "execute_result"
    },
    {
     "data": {
      "image/png": "[encoded data removed]",
      "text/plain": [
       "<Figure size 432x288 with 1 Axes>"
      ]
     },
     "metadata": {
      "needs_background": "light"
     },
     "output_type": "display_data"
    }
   ],
   "source": [
    "sns.scatterplot(zillow.bedroomcnt, zillow.calculatedfinishedsquarefeet, hue=zillow.labels)"
   ]
  },
  {
   "cell_type": "code",
   "execution_count": 88,
   "metadata": {},
   "outputs": [],
   "source": [
    "the_in = zillow[zillow['labels'] != -1]\n",
    "the_out = zillow[zillow['labels'] == -1]"
   ]
  },
  {
   "cell_type": "code",
   "execution_count": 89,
   "metadata": {},
   "outputs": [
    {
     "name": "stdout",
     "output_type": "stream",
     "text": [
      "The IN\n",
      "         bedroomcnt  calculatedfinishedsquarefeet        labels\n",
      "count  50897.000000                  50897.000000  50897.000000\n",
      "mean       3.263336                   1841.967680      1.137022\n",
      "std        0.864089                    804.085007      1.434439\n",
      "min        1.000000                    360.000000      0.000000\n",
      "25%        3.000000                   1260.000000      0.000000\n",
      "50%        3.000000                   1638.000000      1.000000\n",
      "75%        4.000000                   2243.000000      1.000000\n",
      "max        6.000000                   5501.000000      5.000000\n",
      "------------------\n",
      "The OUT\n",
      "        bedroomcnt  calculatedfinishedsquarefeet  labels\n",
      "count  1327.000000                   1327.000000  1327.0\n",
      "mean      5.020347                   5011.949510    -1.0\n",
      "std       1.569998                   2179.472741     0.0\n",
      "min       1.000000                    622.000000    -1.0\n",
      "25%       4.000000                   3528.000000    -1.0\n",
      "50%       5.000000                   4963.000000    -1.0\n",
      "75%       6.000000                   6094.000000    -1.0\n",
      "max      11.000000                  21929.000000    -1.0\n"
     ]
    },
    {
     "data": {
      "text/plain": [
       "(None, None, None, None, None)"
      ]
     },
     "execution_count": 89,
     "metadata": {},
     "output_type": "execute_result"
    }
   ],
   "source": [
    "print('The IN'), print(the_in.describe()), print('------------------'), print('The OUT'), print(the_out.describe())"
   ]
  },
  {
   "cell_type": "markdown",
   "metadata": {},
   "source": [
    "## Curriculum access logs"
   ]
  },
  {
   "cell_type": "code",
   "execution_count": 67,
   "metadata": {},
   "outputs": [],
   "source": [
    "data = pd.read_csv('anonymized-curriculum-access.txt', sep=\"\\s{1}\", header = None, engine='python')\n",
    "data.rename(columns = {0: 'date', 1: 'access_time', 2: 'curriculum_page', 3 : 'userid', 4: 'cohort', 5: 'ip'}, inplace = True)\n",
    "data['datetime'] = data.date.astype(str) + ' ' + data.access_time.astype(str)\n",
    "data['datetime'] = pd.to_datetime(data.datetime)\n",
    "data = data.set_index('datetime')\n",
    "data.drop(columns = ['date', 'access_time'], inplace = True)\n",
    "after_school = data.between_time('17:30', '08:30')"
   ]
  },
  {
   "cell_type": "code",
   "execution_count": 68,
   "metadata": {},
   "outputs": [
    {
     "data": {
      "text/html": [
       "<div>\n",
       "<style scoped>\n",
       "    .dataframe tbody tr th:only-of-type {\n",
       "        vertical-align: middle;\n",
       "    }\n",
       "\n",
       "    .dataframe tbody tr th {\n",
       "        vertical-align: top;\n",
       "    }\n",
       "\n",
       "    .dataframe thead th {\n",
       "        text-align: right;\n",
       "    }\n",
       "</style>\n",
       "<table border=\"1\" class=\"dataframe\">\n",
       "  <thead>\n",
       "    <tr style=\"text-align: right;\">\n",
       "      <th></th>\n",
       "      <th>curriculum_page</th>\n",
       "      <th>userid</th>\n",
       "      <th>cohort</th>\n",
       "      <th>ip</th>\n",
       "    </tr>\n",
       "    <tr>\n",
       "      <th>datetime</th>\n",
       "      <th></th>\n",
       "      <th></th>\n",
       "      <th></th>\n",
       "      <th></th>\n",
       "    </tr>\n",
       "  </thead>\n",
       "  <tbody>\n",
       "    <tr>\n",
       "      <th>2018-01-26 09:55:03</th>\n",
       "      <td>/</td>\n",
       "      <td>1</td>\n",
       "      <td>8.0</td>\n",
       "      <td>97.105.19.61</td>\n",
       "    </tr>\n",
       "    <tr>\n",
       "      <th>2018-01-26 09:56:02</th>\n",
       "      <td>java-ii</td>\n",
       "      <td>1</td>\n",
       "      <td>8.0</td>\n",
       "      <td>97.105.19.61</td>\n",
       "    </tr>\n",
       "    <tr>\n",
       "      <th>2018-01-26 09:56:05</th>\n",
       "      <td>java-ii/object-oriented-programming</td>\n",
       "      <td>1</td>\n",
       "      <td>8.0</td>\n",
       "      <td>97.105.19.61</td>\n",
       "    </tr>\n",
       "    <tr>\n",
       "      <th>2018-01-26 09:56:06</th>\n",
       "      <td>slides/object_oriented_programming</td>\n",
       "      <td>1</td>\n",
       "      <td>8.0</td>\n",
       "      <td>97.105.19.61</td>\n",
       "    </tr>\n",
       "    <tr>\n",
       "      <th>2018-01-26 09:56:24</th>\n",
       "      <td>javascript-i/conditionals</td>\n",
       "      <td>2</td>\n",
       "      <td>22.0</td>\n",
       "      <td>97.105.19.61</td>\n",
       "    </tr>\n",
       "    <tr>\n",
       "      <th>...</th>\n",
       "      <td>...</td>\n",
       "      <td>...</td>\n",
       "      <td>...</td>\n",
       "      <td>...</td>\n",
       "    </tr>\n",
       "    <tr>\n",
       "      <th>2021-04-21 16:41:51</th>\n",
       "      <td>jquery/personal-site</td>\n",
       "      <td>64</td>\n",
       "      <td>28.0</td>\n",
       "      <td>71.150.217.33</td>\n",
       "    </tr>\n",
       "    <tr>\n",
       "      <th>2021-04-21 16:42:02</th>\n",
       "      <td>jquery/mapbox-api</td>\n",
       "      <td>64</td>\n",
       "      <td>28.0</td>\n",
       "      <td>71.150.217.33</td>\n",
       "    </tr>\n",
       "    <tr>\n",
       "      <th>2021-04-21 16:42:09</th>\n",
       "      <td>jquery/ajax/weather-map</td>\n",
       "      <td>64</td>\n",
       "      <td>28.0</td>\n",
       "      <td>71.150.217.33</td>\n",
       "    </tr>\n",
       "    <tr>\n",
       "      <th>2021-04-21 16:44:37</th>\n",
       "      <td>anomaly-detection/discrete-probabilistic-methods</td>\n",
       "      <td>744</td>\n",
       "      <td>28.0</td>\n",
       "      <td>24.160.137.86</td>\n",
       "    </tr>\n",
       "    <tr>\n",
       "      <th>2021-04-21 16:44:39</th>\n",
       "      <td>jquery/mapbox-api</td>\n",
       "      <td>64</td>\n",
       "      <td>28.0</td>\n",
       "      <td>71.150.217.33</td>\n",
       "    </tr>\n",
       "  </tbody>\n",
       "</table>\n",
       "<p>900223 rows × 4 columns</p>\n",
       "</div>"
      ],
      "text/plain": [
       "                                                      curriculum_page  userid  \\\n",
       "datetime                                                                        \n",
       "2018-01-26 09:55:03                                                 /       1   \n",
       "2018-01-26 09:56:02                                           java-ii       1   \n",
       "2018-01-26 09:56:05               java-ii/object-oriented-programming       1   \n",
       "2018-01-26 09:56:06                slides/object_oriented_programming       1   \n",
       "2018-01-26 09:56:24                         javascript-i/conditionals       2   \n",
       "...                                                               ...     ...   \n",
       "2021-04-21 16:41:51                              jquery/personal-site      64   \n",
       "2021-04-21 16:42:02                                 jquery/mapbox-api      64   \n",
       "2021-04-21 16:42:09                           jquery/ajax/weather-map      64   \n",
       "2021-04-21 16:44:37  anomaly-detection/discrete-probabilistic-methods     744   \n",
       "2021-04-21 16:44:39                                 jquery/mapbox-api      64   \n",
       "\n",
       "                     cohort             ip  \n",
       "datetime                                    \n",
       "2018-01-26 09:55:03     8.0   97.105.19.61  \n",
       "2018-01-26 09:56:02     8.0   97.105.19.61  \n",
       "2018-01-26 09:56:05     8.0   97.105.19.61  \n",
       "2018-01-26 09:56:06     8.0   97.105.19.61  \n",
       "2018-01-26 09:56:24    22.0   97.105.19.61  \n",
       "...                     ...            ...  \n",
       "2021-04-21 16:41:51    28.0  71.150.217.33  \n",
       "2021-04-21 16:42:02    28.0  71.150.217.33  \n",
       "2021-04-21 16:42:09    28.0  71.150.217.33  \n",
       "2021-04-21 16:44:37    28.0  24.160.137.86  \n",
       "2021-04-21 16:44:39    28.0  71.150.217.33  \n",
       "\n",
       "[900223 rows x 4 columns]"
      ]
     },
     "execution_count": 68,
     "metadata": {},
     "output_type": "execute_result"
    }
   ],
   "source": [
    "data"
   ]
  },
  {
   "cell_type": "code",
   "execution_count": 69,
   "metadata": {},
   "outputs": [
    {
     "data": {
      "text/plain": [
       "28.0     84031\n",
       "33.0     40730\n",
       "29.0     38096\n",
       "62.0     37109\n",
       "53.0     36902\n",
       "24.0     35636\n",
       "57.0     33844\n",
       "56.0     33568\n",
       "51.0     32888\n",
       "59.0     32015\n",
       "22.0     30926\n",
       "58.0     29855\n",
       "32.0     29356\n",
       "23.0     28534\n",
       "52.0     28033\n",
       "26.0     27749\n",
       "34.0     26538\n",
       "25.0     25586\n",
       "31.0     25359\n",
       "132.0    23691\n",
       "55.0     21582\n",
       "27.0     20743\n",
       "61.0     17713\n",
       "134.0    16623\n",
       "135.0    16397\n",
       "133.0    14715\n",
       "14.0      9587\n",
       "1.0       8890\n",
       "137.0     8562\n",
       "21.0      7444\n",
       "138.0     7276\n",
       "17.0      4954\n",
       "13.0      2845\n",
       "18.0      2158\n",
       "8.0       1712\n",
       "139.0     1672\n",
       "19.0      1237\n",
       "16.0       755\n",
       "15.0       691\n",
       "7.0        598\n",
       "12.0       302\n",
       "11.0       253\n",
       "2.0         93\n",
       "6.0         72\n",
       "9.0          5\n",
       "4.0          4\n",
       "5.0          1\n",
       "Name: cohort, dtype: int64"
      ]
     },
     "execution_count": 69,
     "metadata": {},
     "output_type": "execute_result"
    }
   ],
   "source": [
    "data.cohort.value_counts()"
   ]
  },
  {
   "cell_type": "code",
   "execution_count": null,
   "metadata": {},
   "outputs": [],
   "source": []
  }
 ],
 "metadata": {
  "kernelspec": {
   "display_name": "Python 3",
   "language": "python",
   "name": "python3"
  },
  "language_info": {
   "codemirror_mode": {
    "name": "ipython",
    "version": 3
   },
   "file_extension": ".py",
   "mimetype": "text/x-python",
   "name": "python",
   "nbconvert_exporter": "python",
   "pygments_lexer": "ipython3",
   "version": "3.8.5"
  }
 },
 "nbformat": 4,
 "nbformat_minor": 4
}
